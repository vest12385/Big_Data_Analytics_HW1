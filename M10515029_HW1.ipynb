{
 "cells": [
  {
   "cell_type": "code",
   "execution_count": 1,
   "metadata": {
    "collapsed": false
   },
   "outputs": [],
   "source": [
    "import numpy as np\n",
    "import pandas as pd\n",
    "from sklearn.datasets import make_classification\n",
    "from sklearn.ensemble import ExtraTreesClassifier"
   ]
  },
  {
   "cell_type": "code",
   "execution_count": 2,
   "metadata": {
    "collapsed": false
   },
   "outputs": [],
   "source": [
    "# Build a classification task using 1806 informative features\n",
    "data = pd.read_csv(\"./Microsoft-Malware-Challenge/Dataset/train/LargeTrain.csv\")\n",
    "featureName = data.columns\n",
    "y = data.pop('Class')\n",
    "X = data"
   ]
  },
  {
   "cell_type": "code",
   "execution_count": 3,
   "metadata": {
    "collapsed": false
   },
   "outputs": [
    {
     "name": "stdout",
     "output_type": "stream",
     "text": [
      "Importance feature\n",
      "1. feature section_names_.tls (0.013411)\n",
      "2. feature ent_q_diffs_mean (0.011097)\n",
      "3. feature ent_p_7 (0.008002)\n",
      "4. feature ent_q_diff_diffs_2_max (0.007035)\n",
      "5. feature Img3 (0.006078)\n",
      "6. feature misc1_unableto (0.006050)\n",
      "7. feature dw_por (0.005857)\n",
      "8. feature TlsAlloc (0.005746)\n",
      "9. feature LoadLibraryW (0.005639)\n",
      "10. feature Unknown_Sections_lines_por (0.005220)\n",
      "Nonimportance feature\n",
      "1. feature wvsprintfA (0.000000)\n",
      "2. feature __vbaRecAnsiToUni (0.000000)\n",
      "3. feature misc_installdir (0.000000)\n",
      "4. feature ---Seperator (0.000000)\n",
      "5. feature GetSaveFileNameA (0.000000)\n",
      "6. feature lstrcmpiW (0.000000)\n",
      "7. feature __vbaAryMove (0.000000)\n",
      "8. feature fdivp (0.000000)\n",
      "9. feature GetWindowTextLengthA (0.000000)\n",
      "10. feature SetDIBColorTable (0.000000)\n"
     ]
    }
   ],
   "source": [
    "\n",
    "# Build a forest and compute the feature importances\n",
    "forest = ExtraTreesClassifier(n_estimators=250, random_state=0)\n",
    "\n",
    "forest.fit(X, y)\n",
    "importances = forest.feature_importances_\n",
    "std = np.std([tree.feature_importances_ for tree in forest.estimators_],\n",
    "             axis=0)\n",
    "indices = np.argsort(importances)[::-1]\n",
    "num = len(indices) - 1\n",
    "print(\"Importance feature\")\n",
    "for i in xrange(10):\n",
    "    print (\"%d. feature %s (%f)\" % (i + 1, featureName[indices[i]-1], importances[indices[i]]))\n",
    "\n",
    "print(\"Nonimportance feature\")\n",
    "for i in xrange(10):\n",
    "    print (\"%d. feature %s (%f)\" % (i + 1, featureName[indices[num-i]-1], importances[indices[num-i]]))\n"
   ]
  },
  {
   "cell_type": "code",
   "execution_count": null,
   "metadata": {
    "collapsed": true
   },
   "outputs": [],
   "source": []
  }
 ],
 "metadata": {
  "kernelspec": {
   "display_name": "Python 2",
   "language": "python",
   "name": "python2"
  },
  "language_info": {
   "codemirror_mode": {
    "name": "ipython",
    "version": 2
   },
   "file_extension": ".py",
   "mimetype": "text/x-python",
   "name": "python",
   "nbconvert_exporter": "python",
   "pygments_lexer": "ipython2",
   "version": "2.7.13"
  }
 },
 "nbformat": 4,
 "nbformat_minor": 2
}
