{
 "cells": [
  {
   "cell_type": "code",
   "execution_count": 1,
   "metadata": {
    "collapsed": false
   },
   "outputs": [],
   "source": [
    "import numpy as np\n",
    "import pandas as pd\n",
    "from sklearn.datasets import make_classification\n",
    "from sklearn.ensemble import ExtraTreesClassifier"
   ]
  },
  {
   "cell_type": "code",
   "execution_count": 2,
   "metadata": {
    "collapsed": false
   },
   "outputs": [],
   "source": [
    "# Build a classification task using 1806 informative features\n",
    "data = pd.read_csv(\"./Microsoft-Malware-Challenge/Dataset/train/LargeTrain.csv\")\n",
    "y = data.pop('Class')\n",
    "X = data"
   ]
  },
  {
   "cell_type": "code",
   "execution_count": 3,
   "metadata": {
    "collapsed": false
   },
   "outputs": [
    {
     "name": "stdout",
     "output_type": "stream",
     "text": [
      "Importance feature\n",
      "1. feature 306 (0.013411)\n",
      "2. feature 117 (0.011097)\n",
      "3. feature 265 (0.008002)\n",
      "4. feature 228 (0.007035)\n",
      "5. feature 1638 (0.006078)\n",
      "6. feature 95 (0.006050)\n",
      "7. feature 1497 (0.005857)\n",
      "8. feature 740 (0.005746)\n",
      "9. feature 877 (0.005639)\n",
      "10. feature 314 (0.005220)\n",
      "Nonimportance feature\n",
      "1. feature 345 (0.000000)\n",
      "2. feature 458 (0.000000)\n",
      "3. feature 78 (0.000000)\n",
      "4. feature 70 (0.000000)\n",
      "5. feature 449 (0.000000)\n",
      "6. feature 412 (0.000000)\n",
      "7. feature 1049 (0.000000)\n",
      "8. feature 1475 (0.000000)\n",
      "9. feature 335 (0.000000)\n",
      "10. feature 981 (0.000000)\n"
     ]
    }
   ],
   "source": [
    "\n",
    "# Build a forest and compute the feature importances\n",
    "forest = ExtraTreesClassifier(n_estimators=250, random_state=0)\n",
    "\n",
    "forest.fit(X, y)\n",
    "importances = forest.feature_importances_\n",
    "std = np.std([tree.feature_importances_ for tree in forest.estimators_],\n",
    "             axis=0)\n",
    "indices = np.argsort(importances)[::-1]\n",
    "num = len(indices) - 1\n",
    "print(\"Importance feature\")\n",
    "for i in xrange(10):\n",
    "    print (\"%d. feature %d (%f)\" % (i + 1, indices[i], importances[indices[i]]))\n",
    "\n",
    "print(\"Nonimportance feature\")\n",
    "for i in xrange(10):\n",
    "    print (\"%d. feature %d (%f)\" % (i + 1, indices[num-i], importances[indices[num-i]]))\n"
   ]
  },
  {
   "cell_type": "code",
   "execution_count": null,
   "metadata": {
    "collapsed": true
   },
   "outputs": [],
   "source": []
  }
 ],
 "metadata": {
  "kernelspec": {
   "display_name": "Python 2",
   "language": "python",
   "name": "python2"
  },
  "language_info": {
   "codemirror_mode": {
    "name": "ipython",
    "version": 2
   },
   "file_extension": ".py",
   "mimetype": "text/x-python",
   "name": "python",
   "nbconvert_exporter": "python",
   "pygments_lexer": "ipython2",
   "version": "2.7.13"
  }
 },
 "nbformat": 4,
 "nbformat_minor": 2
}
